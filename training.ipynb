{
 "cells": [
  {
   "cell_type": "code",
   "execution_count": null,
   "metadata": {},
   "outputs": [],
   "source": [
    "import importlib\n",
    "from network import network\n",
    "import layers\n",
    "import utils\n",
    "import losses\n",
    "import nonlinearities"
   ]
  },
  {
   "cell_type": "markdown",
   "metadata": {},
   "source": [
    "Here, we train a fully connected \"deep\" neural net on the MNIST dataset. Choice of hyperparameters and learning rate don't really matter because everything works on MNIST. "
   ]
  },
  {
   "cell_type": "code",
   "execution_count": null,
   "metadata": {
    "collapsed": true
   },
   "outputs": [],
   "source": [
    "import numpy as np\n",
    "import scipy.io\n",
    "import scipy.special\n",
    "import math\n",
    "\n",
    "# HYPER PARAMETERS\n",
    "# Each entry represents a layer of size n\n",
    "# These are just defaults, can be set train() function as well\n",
    "HIDDEN_LAYERS = [128, 64]\n",
    "NUM_EPOCHS = 50\n",
    "BATCH_SIZE = 500\n",
    "LEARNING_RATE = 0.3\n",
    "\n",
    "# Each entry represents a layer of size n\n",
    "INPUT_SIZE = 784\n",
    "OUTPUT_SIZE = 10\n",
    "\n",
    "TRAIN_DATA_LOC = \"./digit-dataset/train.mat\"\n",
    "TEST_DATA_LOC = \"./digit-dataset/test.mat\"\n",
    "\n",
    "# load our dataset\n",
    "train_dataset = scipy.io.loadmat(TRAIN_DATA_LOC)\n",
    "test_dataset = scipy.io.loadmat(TEST_DATA_LOC)\n",
    "\n",
    "train_data = train_dataset['train_images']\n",
    "train_labels = train_dataset['train_labels']\n",
    "test_data = test_dataset['test_images']\n",
    "\n",
    "# labels to one hot\n",
    "train_labels_onehot = np.eye(OUTPUT_SIZE)[train_labels.T.tolist()]\n",
    "\n",
    "# simple normalization\n",
    "train_data = (train_data / np.amax(train_data))\n",
    "test_data = (test_data / np.amax(test_data))\n",
    "\n",
    "# reshape data into matrix of (n, feature_size)\n",
    "train_data = np.swapaxes(train_data.reshape((INPUT_SIZE, train_data.shape[2])), 0, 1)\n",
    "test_data = np.swapaxes(test_data.reshape((INPUT_SIZE, test_data.shape[2])), 0, 1)\n"
   ]
  },
  {
   "cell_type": "markdown",
   "metadata": {},
   "source": [
    "Now create a feedforward nn with softmax cross-entropy loss. "
   ]
  },
  {
   "cell_type": "code",
   "execution_count": null,
   "metadata": {},
   "outputs": [],
   "source": [
    "loss = losses.SoftmaxCrossEntropyLoss()\n",
    "nn = network(loss)\n",
    "\n",
    "units = [INPUT_SIZE] + HIDDEN_LAYERS + [OUTPUT_SIZE]\n",
    "for i in range(len(units) - 1):\n",
    "    new_layer = layers.FullyConnected(units[i], units[i+1], 1e-1, nonlinearities.Sigmoid() if i != len(units) - 2 else None)\n",
    "    nn.add_layer(new_layer)\n",
    "\n",
    "nn.train((train_data, train_labels_onehot), 64, 200, 0.3)"
   ]
  }
 ],
 "metadata": {
  "kernelspec": {
   "display_name": "Python 3",
   "language": "python",
   "name": "python3"
  },
  "language_info": {
   "codemirror_mode": {
    "name": "ipython",
    "version": 3
   },
   "file_extension": ".py",
   "mimetype": "text/x-python",
   "name": "python",
   "nbconvert_exporter": "python",
   "pygments_lexer": "ipython3",
   "version": "3.6.1"
  }
 },
 "nbformat": 4,
 "nbformat_minor": 2
}
